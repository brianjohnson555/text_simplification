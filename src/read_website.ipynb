{
 "cells": [
  {
   "cell_type": "code",
   "execution_count": 106,
   "metadata": {},
   "outputs": [],
   "source": [
    "import requests\n",
    "import re\n",
    "from bs4 import BeautifulSoup\n",
    "import jieba\n",
    "import nltk\n",
    "import string\n",
    "import pandas as pd\n",
    "from nltk.tokenize import word_tokenize\n",
    "import csv\n",
    "\n",
    "url = 'https://www.bbc.com/zhongwen/articles/c4gl97d2rzjo/simp'\n",
    "site = requests.get(url)\n",
    "site_soup = BeautifulSoup(site.text, 'html.parser')\n",
    "# print(site_soup.prettify())"
   ]
  },
  {
   "cell_type": "code",
   "execution_count": 151,
   "metadata": {},
   "outputs": [
    {
     "name": "stdout",
     "output_type": "stream",
     "text": [
      "(747, 1)\n"
     ]
    }
   ],
   "source": [
    "site_p = site_soup.find_all('p')[0:100]\n",
    "text = \"\"\n",
    "punc = \"！？｡。＂＃＄％＆＇（）＊＋，－／：；＜＝＞＠［＼］＾＿｀｛｜｝～｟｠｢｣､、〃》「」『』【】〔〕〖〗〘〙〚〛〜〝〞〟〰〾〿–—‘’‛“”„‟…‧﹏.\"\n",
    "\n",
    "for p in site_p:\n",
    "    text += str(p.get_text())\n",
    "\n",
    "\n",
    "text.translate(str.maketrans('', '', string.punctuation))\n",
    "text_re = re.sub(r\"[%s]+\" %punc, \"\", text)\n",
    "\n",
    "tokens = jieba.lcut(text_re)\n",
    "tokens_pd = pd.DataFrame(tokens)\n",
    "tokens_pd.drop_duplicates(inplace=True)\n",
    "print(tokens_pd.shape)"
   ]
  },
  {
   "cell_type": "code",
   "execution_count": null,
   "metadata": {},
   "outputs": [
    {
     "data": {
      "text/html": [
       "<div>\n",
       "<style scoped>\n",
       "    .dataframe tbody tr th:only-of-type {\n",
       "        vertical-align: middle;\n",
       "    }\n",
       "\n",
       "    .dataframe tbody tr th {\n",
       "        vertical-align: top;\n",
       "    }\n",
       "\n",
       "    .dataframe thead th {\n",
       "        text-align: right;\n",
       "    }\n",
       "</style>\n",
       "<table border=\"1\" class=\"dataframe\">\n",
       "  <thead>\n",
       "    <tr style=\"text-align: right;\">\n",
       "      <th></th>\n",
       "      <th>character</th>\n",
       "      <th>pinyin</th>\n",
       "      <th>HSK</th>\n",
       "      <th>definition</th>\n",
       "    </tr>\n",
       "  </thead>\n",
       "  <tbody>\n",
       "    <tr>\n",
       "      <th>0</th>\n",
       "      <td>爱</td>\n",
       "      <td>ài</td>\n",
       "      <td>1</td>\n",
       "      <td>love, like, be fond of, be keen on, cherish, b...</td>\n",
       "    </tr>\n",
       "    <tr>\n",
       "      <th>1</th>\n",
       "      <td>爱好</td>\n",
       "      <td>àihào</td>\n",
       "      <td>1</td>\n",
       "      <td>love, like, be fond of, be keen on</td>\n",
       "    </tr>\n",
       "    <tr>\n",
       "      <th>2</th>\n",
       "      <td>爸爸</td>\n",
       "      <td>bàba</td>\n",
       "      <td>1</td>\n",
       "      <td>old man, father, papa, pappa, daddy, pa, beget...</td>\n",
       "    </tr>\n",
       "    <tr>\n",
       "      <th>3</th>\n",
       "      <td>白</td>\n",
       "      <td>bái</td>\n",
       "      <td>1</td>\n",
       "      <td>white, clear, pure, plain, wrongly written/mis...</td>\n",
       "    </tr>\n",
       "    <tr>\n",
       "      <th>4</th>\n",
       "      <td>八</td>\n",
       "      <td>bā</td>\n",
       "      <td>1</td>\n",
       "      <td>det.: eight</td>\n",
       "    </tr>\n",
       "  </tbody>\n",
       "</table>\n",
       "</div>"
      ],
      "text/plain": [
       "  character pinyin HSK                                         definition\n",
       "0         爱     ài   1  love, like, be fond of, be keen on, cherish, b...\n",
       "1        爱好  àihào   1                 love, like, be fond of, be keen on\n",
       "2        爸爸   bàba   1  old man, father, papa, pappa, daddy, pa, beget...\n",
       "3         白    bái   1  white, clear, pure, plain, wrongly written/mis...\n",
       "4         八     bā   1                                        det.: eight"
      ]
     },
     "execution_count": 152,
     "metadata": {},
     "output_type": "execute_result"
    }
   ],
   "source": [
    "HSK_nums = ['1', '2', '3', '4', '5', '6', '7_9']\n",
    "\n",
    "HSK = pd.DataFrame()\n",
    "for hsk in HSK_nums:\n",
    "    hsk_df = pd.read_csv('../data/Chinese/HSK/HSK'+hsk+'.tsv', sep='\\t', header=None)\n",
    "    hsk_df.drop(0, axis=1, inplace=True)\n",
    "    hsk_df.rename(columns={1: \"character\", 2: \"pinyin\", 3: \"definition\"}, inplace=True)\n",
    "    hsk_df.insert(loc=2,column='HSK',value=[hsk]*hsk_df.shape[0])\n",
    "    HSK = pd.concat([HSK, hsk_df])\n",
    "HSK.head()"
   ]
  },
  {
   "cell_type": "code",
   "execution_count": 171,
   "metadata": {},
   "outputs": [
    {
     "data": {
      "text/plain": [
       "0         图像\n",
       "1         来源\n",
       "2      Getty\n",
       "3           \n",
       "4     Images\n",
       "5         今年\n",
       "6        四季度\n",
       "7         以来\n",
       "8       中国政府\n",
       "9         刺激\n",
       "10        经济\n",
       "11         的\n",
       "12        意图\n",
       "13        明显\n",
       "14         从\n",
       "15        货币\n",
       "16         到\n",
       "17        财政\n",
       "19        股市\n",
       "21        楼市\n",
       "Name: 0, dtype: object"
      ]
     },
     "execution_count": 171,
     "metadata": {},
     "output_type": "execute_result"
    }
   ],
   "source": [
    "tokens_pd.iloc[0:20,1]"
   ]
  },
  {
   "cell_type": "code",
   "execution_count": 170,
   "metadata": {},
   "outputs": [
    {
     "data": {
      "text/plain": [
       "'来源'"
      ]
     },
     "execution_count": 170,
     "metadata": {},
     "output_type": "execute_result"
    }
   ],
   "source": [
    "tokens_pd.iloc[1,1]"
   ]
  },
  {
   "cell_type": "code",
   "execution_count": 158,
   "metadata": {},
   "outputs": [],
   "source": [
    "foo = tokens_pd.iloc[:,0].isin(HSK.iloc[:,0]).astype(int)"
   ]
  },
  {
   "cell_type": "code",
   "execution_count": 162,
   "metadata": {},
   "outputs": [],
   "source": [
    "new_df = tokens_pd.insert(loc=0, column=\"HSK\", value=1)"
   ]
  }
 ],
 "metadata": {
  "kernelspec": {
   "display_name": "Python 3",
   "language": "python",
   "name": "python3"
  },
  "language_info": {
   "codemirror_mode": {
    "name": "ipython",
    "version": 3
   },
   "file_extension": ".py",
   "mimetype": "text/x-python",
   "name": "python",
   "nbconvert_exporter": "python",
   "pygments_lexer": "ipython3",
   "version": "3.12.3"
  }
 },
 "nbformat": 4,
 "nbformat_minor": 2
}
