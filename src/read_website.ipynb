{
 "cells": [
  {
   "cell_type": "code",
   "execution_count": 12,
   "metadata": {},
   "outputs": [
    {
     "name": "stderr",
     "output_type": "stream",
     "text": [
      "c:\\Users\\tempu\\AppData\\Local\\Programs\\Python\\Python312\\Lib\\site-packages\\tqdm\\auto.py:21: TqdmWarning: IProgress not found. Please update jupyter and ipywidgets. See https://ipywidgets.readthedocs.io/en/stable/user_install.html\n",
      "  from .autonotebook import tqdm as notebook_tqdm\n",
      "c:\\Users\\tempu\\AppData\\Local\\Programs\\Python\\Python312\\Lib\\site-packages\\huggingface_hub\\file_download.py:139: UserWarning: `huggingface_hub` cache-system uses symlinks by default to efficiently store duplicated files but your machine does not support them in C:\\Users\\tempu\\.cache\\huggingface\\hub\\models--sentence-transformers--paraphrase-MiniLM-L6-v2. Caching files will still work but in a degraded version that might require more space on your disk. This warning can be disabled by setting the `HF_HUB_DISABLE_SYMLINKS_WARNING` environment variable. For more details, see https://huggingface.co/docs/huggingface_hub/how-to-cache#limitations.\n",
      "To support symlinks on Windows, you either need to activate Developer Mode or to run Python as an administrator. In order to activate developer mode, see this article: https://docs.microsoft.com/en-us/windows/apps/get-started/enable-your-device-for-development\n",
      "  warnings.warn(message)\n"
     ]
    }
   ],
   "source": [
    "import requests\n",
    "import re\n",
    "from bs4 import BeautifulSoup\n",
    "import jieba\n",
    "import nltk\n",
    "import string\n",
    "import pandas as pd\n",
    "from nltk.tokenize import word_tokenize\n",
    "import csv\n",
    "from sentence_transformers import SentenceTransformer\n",
    "model = SentenceTransformer('paraphrase-MiniLM-L6-v2')\n",
    "\n",
    "url = 'https://www.bbc.com/zhongwen/articles/c4gl97d2rzjo/simp'\n",
    "site = requests.get(url)\n",
    "site_soup = BeautifulSoup(site.text, 'html.parser')\n",
    "# print(site_soup.prettify())"
   ]
  },
  {
   "cell_type": "code",
   "execution_count": 2,
   "metadata": {},
   "outputs": [
    {
     "name": "stderr",
     "output_type": "stream",
     "text": [
      "Building prefix dict from the default dictionary ...\n",
      "Loading model from cache C:\\Users\\tempu\\AppData\\Local\\Temp\\jieba.cache\n",
      "Loading model cost 1.575 seconds.\n",
      "Prefix dict has been built successfully.\n"
     ]
    },
    {
     "name": "stdout",
     "output_type": "stream",
     "text": [
      "(747, 1)\n"
     ]
    }
   ],
   "source": [
    "site_p = site_soup.find_all('p')[0:100]\n",
    "text = \"\"\n",
    "punc = \"！？｡。＂＃＄％＆＇（）＊＋，－／：；＜＝＞＠［＼］＾＿｀｛｜｝～｟｠｢｣､、〃》「」『』【】〔〕〖〗〘〙〚〛〜〝〞〟〰〾〿–—‘’‛“”„‟…‧﹏.\"\n",
    "\n",
    "for p in site_p:\n",
    "    text += str(p.get_text())\n",
    "\n",
    "\n",
    "text.translate(str.maketrans('', '', string.punctuation))\n",
    "text_re = re.sub(r\"[%s]+\" %punc, \"\", text)\n",
    "\n",
    "tokens = jieba.lcut(text_re)\n",
    "tokens_pd = pd.DataFrame(tokens)\n",
    "tokens_pd.drop_duplicates(inplace=True)\n",
    "print(tokens_pd.shape)"
   ]
  },
  {
   "cell_type": "code",
   "execution_count": 45,
   "metadata": {},
   "outputs": [
    {
     "data": {
      "text/html": [
       "<div>\n",
       "<style scoped>\n",
       "    .dataframe tbody tr th:only-of-type {\n",
       "        vertical-align: middle;\n",
       "    }\n",
       "\n",
       "    .dataframe tbody tr th {\n",
       "        vertical-align: top;\n",
       "    }\n",
       "\n",
       "    .dataframe thead th {\n",
       "        text-align: right;\n",
       "    }\n",
       "</style>\n",
       "<table border=\"1\" class=\"dataframe\">\n",
       "  <thead>\n",
       "    <tr style=\"text-align: right;\">\n",
       "      <th></th>\n",
       "      <th>character</th>\n",
       "      <th>pinyin</th>\n",
       "      <th>HSK</th>\n",
       "      <th>definition</th>\n",
       "      <th>embedding</th>\n",
       "    </tr>\n",
       "  </thead>\n",
       "  <tbody>\n",
       "    <tr>\n",
       "      <th>0</th>\n",
       "      <td>爱</td>\n",
       "      <td>ài</td>\n",
       "      <td>1</td>\n",
       "      <td>love, like, be fond of, be keen on, cherish, b...</td>\n",
       "      <td>[0.37996453, 0.29299688, 0.55704415, 0.0736245...</td>\n",
       "    </tr>\n",
       "    <tr>\n",
       "      <th>1</th>\n",
       "      <td>爱好</td>\n",
       "      <td>àihào</td>\n",
       "      <td>1</td>\n",
       "      <td>love, like, be fond of, be keen on</td>\n",
       "      <td>[0.44047022, 0.29555959, 0.5669609, -0.0190896...</td>\n",
       "    </tr>\n",
       "    <tr>\n",
       "      <th>2</th>\n",
       "      <td>爸爸</td>\n",
       "      <td>bàba</td>\n",
       "      <td>1</td>\n",
       "      <td>old man, father, papa, pappa, daddy, pa, beget...</td>\n",
       "      <td>[0.052221924, 0.18916291, 0.25977138, -0.58558...</td>\n",
       "    </tr>\n",
       "    <tr>\n",
       "      <th>3</th>\n",
       "      <td>白</td>\n",
       "      <td>bái</td>\n",
       "      <td>1</td>\n",
       "      <td>white, clear, pure, plain, wrongly written/mis...</td>\n",
       "      <td>[-0.17480367, 0.23118936, -0.27152467, 0.10098...</td>\n",
       "    </tr>\n",
       "    <tr>\n",
       "      <th>4</th>\n",
       "      <td>八</td>\n",
       "      <td>bā</td>\n",
       "      <td>1</td>\n",
       "      <td>det.: eight</td>\n",
       "      <td>[0.25673094, 0.25089708, 0.53159064, -0.352917...</td>\n",
       "    </tr>\n",
       "  </tbody>\n",
       "</table>\n",
       "</div>"
      ],
      "text/plain": [
       "  character pinyin HSK                                         definition  \\\n",
       "0         爱     ài   1  love, like, be fond of, be keen on, cherish, b...   \n",
       "1        爱好  àihào   1                 love, like, be fond of, be keen on   \n",
       "2        爸爸   bàba   1  old man, father, papa, pappa, daddy, pa, beget...   \n",
       "3         白    bái   1  white, clear, pure, plain, wrongly written/mis...   \n",
       "4         八     bā   1                                        det.: eight   \n",
       "\n",
       "                                           embedding  \n",
       "0  [0.37996453, 0.29299688, 0.55704415, 0.0736245...  \n",
       "1  [0.44047022, 0.29555959, 0.5669609, -0.0190896...  \n",
       "2  [0.052221924, 0.18916291, 0.25977138, -0.58558...  \n",
       "3  [-0.17480367, 0.23118936, -0.27152467, 0.10098...  \n",
       "4  [0.25673094, 0.25089708, 0.53159064, -0.352917...  "
      ]
     },
     "execution_count": 45,
     "metadata": {},
     "output_type": "execute_result"
    }
   ],
   "source": [
    "HSK_nums = ['1', '2', '3', '4', '5', '6', '7_9']\n",
    "\n",
    "HSK = pd.DataFrame()\n",
    "for hsk in HSK_nums:\n",
    "    hsk_df = pd.read_csv(\"../data/Chinese/HSK/HSK\"+hsk+\".tsv\", sep=\"\\t\", header=None)\n",
    "    hsk_df.drop(0, axis=1, inplace=True)\n",
    "    hsk_df.rename(columns={1: \"character\", 2: \"pinyin\", 3: \"definition\"}, inplace=True)\n",
    "    hsk_df.insert(loc=2,column=\"HSK\",value=[hsk]*hsk_df.shape[0])\n",
    "    hsk_df.insert(loc=4, column=\"embedding\", value=list(model.encode(hsk_df.iloc[:, 3])))\n",
    "    HSK = pd.concat([HSK, hsk_df])\n",
    "HSK.head()"
   ]
  },
  {
   "cell_type": "code",
   "execution_count": 5,
   "metadata": {},
   "outputs": [
    {
     "data": {
      "text/html": [
       "<div>\n",
       "<style scoped>\n",
       "    .dataframe tbody tr th:only-of-type {\n",
       "        vertical-align: middle;\n",
       "    }\n",
       "\n",
       "    .dataframe tbody tr th {\n",
       "        vertical-align: top;\n",
       "    }\n",
       "\n",
       "    .dataframe thead th {\n",
       "        text-align: right;\n",
       "    }\n",
       "</style>\n",
       "<table border=\"1\" class=\"dataframe\">\n",
       "  <thead>\n",
       "    <tr style=\"text-align: right;\">\n",
       "      <th></th>\n",
       "      <th>0</th>\n",
       "    </tr>\n",
       "  </thead>\n",
       "  <tbody>\n",
       "    <tr>\n",
       "      <th>0</th>\n",
       "      <td>图像</td>\n",
       "    </tr>\n",
       "    <tr>\n",
       "      <th>1</th>\n",
       "      <td>来源</td>\n",
       "    </tr>\n",
       "    <tr>\n",
       "      <th>2</th>\n",
       "      <td>Getty</td>\n",
       "    </tr>\n",
       "    <tr>\n",
       "      <th>3</th>\n",
       "      <td></td>\n",
       "    </tr>\n",
       "    <tr>\n",
       "      <th>4</th>\n",
       "      <td>Images</td>\n",
       "    </tr>\n",
       "  </tbody>\n",
       "</table>\n",
       "</div>"
      ],
      "text/plain": [
       "        0\n",
       "0      图像\n",
       "1      来源\n",
       "2   Getty\n",
       "3        \n",
       "4  Images"
      ]
     },
     "execution_count": 5,
     "metadata": {},
     "output_type": "execute_result"
    }
   ],
   "source": [
    "tokens_pd.head()"
   ]
  },
  {
   "cell_type": "code",
   "execution_count": 10,
   "metadata": {},
   "outputs": [
    {
     "data": {
      "text/plain": [
       "'图像'"
      ]
     },
     "execution_count": 10,
     "metadata": {},
     "output_type": "execute_result"
    }
   ],
   "source": [
    "tokens_pd.iloc[0,0]"
   ]
  }
 ],
 "metadata": {
  "kernelspec": {
   "display_name": "Python 3",
   "language": "python",
   "name": "python3"
  },
  "language_info": {
   "codemirror_mode": {
    "name": "ipython",
    "version": 3
   },
   "file_extension": ".py",
   "mimetype": "text/x-python",
   "name": "python",
   "nbconvert_exporter": "python",
   "pygments_lexer": "ipython3",
   "version": "3.12.3"
  }
 },
 "nbformat": 4,
 "nbformat_minor": 2
}
