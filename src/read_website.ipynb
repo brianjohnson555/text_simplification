{
 "cells": [
  {
   "cell_type": "code",
   "execution_count": 65,
   "metadata": {},
   "outputs": [
    {
     "name": "stderr",
     "output_type": "stream",
     "text": [
      "c:\\Users\\tempu\\AppData\\Local\\Programs\\Python\\Python312\\Lib\\site-packages\\huggingface_hub\\file_download.py:139: UserWarning: `huggingface_hub` cache-system uses symlinks by default to efficiently store duplicated files but your machine does not support them in C:\\Users\\tempu\\.cache\\huggingface\\hub\\models--sentence-transformers--all-mpnet-base-v2. Caching files will still work but in a degraded version that might require more space on your disk. This warning can be disabled by setting the `HF_HUB_DISABLE_SYMLINKS_WARNING` environment variable. For more details, see https://huggingface.co/docs/huggingface_hub/how-to-cache#limitations.\n",
      "To support symlinks on Windows, you either need to activate Developer Mode or to run Python as an administrator. In order to activate developer mode, see this article: https://docs.microsoft.com/en-us/windows/apps/get-started/enable-your-device-for-development\n",
      "  warnings.warn(message)\n"
     ]
    }
   ],
   "source": [
    "import requests\n",
    "import re\n",
    "from bs4 import BeautifulSoup\n",
    "import jieba\n",
    "import nltk\n",
    "import string\n",
    "import pandas as pd\n",
    "import numpy as np\n",
    "from nltk.tokenize import word_tokenize\n",
    "import csv\n",
    "from sentence_transformers import SentenceTransformer, util\n",
    "model1 = SentenceTransformer('paraphrase-MiniLM-L6-v2')\n",
    "model2 = SentenceTransformer('all-mpnet-base-v2')\n",
    "\n",
    "url = 'https://www.bbc.com/zhongwen/articles/c4gl97d2rzjo/simp'\n",
    "site = requests.get(url)\n",
    "site_soup = BeautifulSoup(site.text, 'html.parser')\n",
    "# print(site_soup.prettify())"
   ]
  },
  {
   "cell_type": "code",
   "execution_count": 2,
   "metadata": {},
   "outputs": [
    {
     "name": "stderr",
     "output_type": "stream",
     "text": [
      "Building prefix dict from the default dictionary ...\n",
      "Loading model from cache C:\\Users\\tempu\\AppData\\Local\\Temp\\jieba.cache\n",
      "Loading model cost 1.706 seconds.\n",
      "Prefix dict has been built successfully.\n"
     ]
    },
    {
     "name": "stdout",
     "output_type": "stream",
     "text": [
      "(747, 1)\n"
     ]
    }
   ],
   "source": [
    "site_p = site_soup.find_all('p')[0:100]\n",
    "text = \"\"\n",
    "punc = \"！？｡。＂＃＄％＆＇（）＊＋，－／：；＜＝＞＠［＼］＾＿｀｛｜｝～｟｠｢｣､、〃》「」『』【】〔〕〖〗〘〙〚〛〜〝〞〟〰〾〿–—‘’‛“”„‟…‧﹏.\"\n",
    "\n",
    "for p in site_p:\n",
    "    text += str(p.get_text())\n",
    "\n",
    "\n",
    "text.translate(str.maketrans('', '', string.punctuation))\n",
    "text_re = re.sub(r\"[%s]+\" %punc, \"\", text)\n",
    "\n",
    "tokens = jieba.lcut(text_re)\n",
    "tokens_pd = pd.DataFrame(tokens)\n",
    "tokens_pd.drop_duplicates(inplace=True)\n",
    "tokens_pd.rename({0: \"character\"}, axis=1, inplace=True)\n",
    "print(tokens_pd.shape)"
   ]
  },
  {
   "cell_type": "code",
   "execution_count": 123,
   "metadata": {},
   "outputs": [
    {
     "data": {
      "text/html": [
       "<div>\n",
       "<style scoped>\n",
       "    .dataframe tbody tr th:only-of-type {\n",
       "        vertical-align: middle;\n",
       "    }\n",
       "\n",
       "    .dataframe tbody tr th {\n",
       "        vertical-align: top;\n",
       "    }\n",
       "\n",
       "    .dataframe thead th {\n",
       "        text-align: right;\n",
       "    }\n",
       "</style>\n",
       "<table border=\"1\" class=\"dataframe\">\n",
       "  <thead>\n",
       "    <tr style=\"text-align: right;\">\n",
       "      <th></th>\n",
       "      <th>character</th>\n",
       "      <th>pinyin</th>\n",
       "      <th>HSK</th>\n",
       "      <th>definition</th>\n",
       "      <th>embedding</th>\n",
       "    </tr>\n",
       "  </thead>\n",
       "  <tbody>\n",
       "    <tr>\n",
       "      <th>0</th>\n",
       "      <td>爱</td>\n",
       "      <td>ài</td>\n",
       "      <td>1</td>\n",
       "      <td>love, like, be fond of, be keen on, cherish, b...</td>\n",
       "      <td>[0.37996447, 0.29299688, 0.55704415, 0.0736245...</td>\n",
       "    </tr>\n",
       "    <tr>\n",
       "      <th>1</th>\n",
       "      <td>爱好</td>\n",
       "      <td>àihào</td>\n",
       "      <td>1</td>\n",
       "      <td>love, like, be fond of, be keen on</td>\n",
       "      <td>[0.4404698, 0.29555953, 0.5669606, -0.0190896,...</td>\n",
       "    </tr>\n",
       "    <tr>\n",
       "      <th>2</th>\n",
       "      <td>爸爸</td>\n",
       "      <td>bàba</td>\n",
       "      <td>1</td>\n",
       "      <td>old man, father, papa, pappa, daddy, pa, beget...</td>\n",
       "      <td>[0.05222196, 0.18916288, 0.2597713, -0.585589,...</td>\n",
       "    </tr>\n",
       "    <tr>\n",
       "      <th>3</th>\n",
       "      <td>白</td>\n",
       "      <td>bái</td>\n",
       "      <td>1</td>\n",
       "      <td>white, clear, pure, plain, wrongly written/mis...</td>\n",
       "      <td>[-0.17480375, 0.23118941, -0.27152503, 0.10098...</td>\n",
       "    </tr>\n",
       "    <tr>\n",
       "      <th>4</th>\n",
       "      <td>八</td>\n",
       "      <td>bā</td>\n",
       "      <td>1</td>\n",
       "      <td>det.: eight</td>\n",
       "      <td>[0.25673103, 0.25089717, 0.5315905, -0.3529175...</td>\n",
       "    </tr>\n",
       "  </tbody>\n",
       "</table>\n",
       "</div>"
      ],
      "text/plain": [
       "  character pinyin HSK                                         definition  \\\n",
       "0         爱     ài   1  love, like, be fond of, be keen on, cherish, b...   \n",
       "1        爱好  àihào   1                 love, like, be fond of, be keen on   \n",
       "2        爸爸   bàba   1  old man, father, papa, pappa, daddy, pa, beget...   \n",
       "3         白    bái   1  white, clear, pure, plain, wrongly written/mis...   \n",
       "4         八     bā   1                                        det.: eight   \n",
       "\n",
       "                                           embedding  \n",
       "0  [0.37996447, 0.29299688, 0.55704415, 0.0736245...  \n",
       "1  [0.4404698, 0.29555953, 0.5669606, -0.0190896,...  \n",
       "2  [0.05222196, 0.18916288, 0.2597713, -0.585589,...  \n",
       "3  [-0.17480375, 0.23118941, -0.27152503, 0.10098...  \n",
       "4  [0.25673103, 0.25089717, 0.5315905, -0.3529175...  "
      ]
     },
     "execution_count": 123,
     "metadata": {},
     "output_type": "execute_result"
    }
   ],
   "source": [
    "HSK_nums = ['1', '2', '3', '4', '5', '6', '7_9']\n",
    "\n",
    "HSK = pd.DataFrame()\n",
    "for hsk in HSK_nums:\n",
    "    hsk_df = pd.read_csv(\"../data/Chinese/HSK/HSK\"+hsk+\".tsv\", sep=\"\\t\", header=None)\n",
    "    hsk_df.drop(0, axis=1, inplace=True)\n",
    "    hsk_df.rename(columns={1: \"character\", 2: \"pinyin\", 3: \"definition\"}, inplace=True)\n",
    "    hsk_df.insert(loc=2, column=\"HSK\", value=[hsk]*hsk_df.shape[0])\n",
    "    hsk_df[\"embedding\"] = hsk_df[\"definition\"].map(model1.encode)\n",
    "    HSK = pd.concat([HSK, hsk_df])\n",
    "HSK.reset_index(inplace=True, drop=True)\n",
    "HSK.head()"
   ]
  },
  {
   "cell_type": "code",
   "execution_count": 145,
   "metadata": {},
   "outputs": [
    {
     "data": {
      "text/plain": [
       "'爱好'"
      ]
     },
     "execution_count": 145,
     "metadata": {},
     "output_type": "execute_result"
    }
   ],
   "source": [
    "cos_sim = []\n",
    "for ii in range(1,HSK.shape[0]):\n",
    "    cos_sim.append(model1.similarity(HSK[\"embedding\"][0], HSK[\"embedding\"][ii])[0][0].float())\n",
    "HSK.iloc[int(np.argmax(cos_sim)+1),1]\n",
    "    "
   ]
  },
  {
   "cell_type": "code",
   "execution_count": null,
   "metadata": {},
   "outputs": [
    {
     "data": {
      "text/html": [
       "<div>\n",
       "<style scoped>\n",
       "    .dataframe tbody tr th:only-of-type {\n",
       "        vertical-align: middle;\n",
       "    }\n",
       "\n",
       "    .dataframe tbody tr th {\n",
       "        vertical-align: top;\n",
       "    }\n",
       "\n",
       "    .dataframe thead th {\n",
       "        text-align: right;\n",
       "    }\n",
       "</style>\n",
       "<table border=\"1\" class=\"dataframe\">\n",
       "  <thead>\n",
       "    <tr style=\"text-align: right;\">\n",
       "      <th></th>\n",
       "      <th>index</th>\n",
       "      <th>character</th>\n",
       "      <th>pinyin</th>\n",
       "      <th>HSK</th>\n",
       "      <th>definition</th>\n",
       "      <th>embedding</th>\n",
       "    </tr>\n",
       "  </thead>\n",
       "  <tbody>\n",
       "    <tr>\n",
       "      <th>0</th>\n",
       "      <td>0.0</td>\n",
       "      <td>爱</td>\n",
       "      <td>ài</td>\n",
       "      <td>1</td>\n",
       "      <td>love, like, be fond of, be keen on, cherish, b...</td>\n",
       "      <td>[0.37996447, 0.29299688, 0.55704415, 0.0736245...</td>\n",
       "    </tr>\n",
       "    <tr>\n",
       "      <th>1</th>\n",
       "      <td>1.0</td>\n",
       "      <td>爱好</td>\n",
       "      <td>àihào</td>\n",
       "      <td>1</td>\n",
       "      <td>love, like, be fond of, be keen on</td>\n",
       "      <td>[0.4404698, 0.29555953, 0.5669606, -0.0190896,...</td>\n",
       "    </tr>\n",
       "    <tr>\n",
       "      <th>2</th>\n",
       "      <td>2.0</td>\n",
       "      <td>爸爸</td>\n",
       "      <td>bàba</td>\n",
       "      <td>1</td>\n",
       "      <td>old man, father, papa, pappa, daddy, pa, beget...</td>\n",
       "      <td>[0.05222196, 0.18916288, 0.2597713, -0.585589,...</td>\n",
       "    </tr>\n",
       "    <tr>\n",
       "      <th>3</th>\n",
       "      <td>3.0</td>\n",
       "      <td>白</td>\n",
       "      <td>bái</td>\n",
       "      <td>1</td>\n",
       "      <td>white, clear, pure, plain, wrongly written/mis...</td>\n",
       "      <td>[-0.17480375, 0.23118941, -0.27152503, 0.10098...</td>\n",
       "    </tr>\n",
       "    <tr>\n",
       "      <th>4</th>\n",
       "      <td>4.0</td>\n",
       "      <td>八</td>\n",
       "      <td>bā</td>\n",
       "      <td>1</td>\n",
       "      <td>det.: eight</td>\n",
       "      <td>[0.25673103, 0.25089717, 0.5315905, -0.3529175...</td>\n",
       "    </tr>\n",
       "  </tbody>\n",
       "</table>\n",
       "</div>"
      ],
      "text/plain": [
       "   index character pinyin HSK  \\\n",
       "0    0.0         爱     ài   1   \n",
       "1    1.0        爱好  àihào   1   \n",
       "2    2.0        爸爸   bàba   1   \n",
       "3    3.0         白    bái   1   \n",
       "4    4.0         八     bā   1   \n",
       "\n",
       "                                          definition  \\\n",
       "0  love, like, be fond of, be keen on, cherish, b...   \n",
       "1                 love, like, be fond of, be keen on   \n",
       "2  old man, father, papa, pappa, daddy, pa, beget...   \n",
       "3  white, clear, pure, plain, wrongly written/mis...   \n",
       "4                                        det.: eight   \n",
       "\n",
       "                                           embedding  \n",
       "0  [0.37996447, 0.29299688, 0.55704415, 0.0736245...  \n",
       "1  [0.4404698, 0.29555953, 0.5669606, -0.0190896,...  \n",
       "2  [0.05222196, 0.18916288, 0.2597713, -0.585589,...  \n",
       "3  [-0.17480375, 0.23118941, -0.27152503, 0.10098...  \n",
       "4  [0.25673103, 0.25089717, 0.5315905, -0.3529175...  "
      ]
     },
     "execution_count": 146,
     "metadata": {},
     "output_type": "execute_result"
    }
   ],
   "source": [
    "HSK_nums = ['1', '2', '3', '4', '5', '6', '7_9']\n",
    "\n",
    "HSK2 = pd.DataFrame()\n",
    "for hsk in HSK_nums:\n",
    "    hsk_df = pd.read_csv(\"../data/Chinese/HSK/HSK\"+hsk+\".tsv\", sep=\"\\t\", header=None)\n",
    "    hsk_df.drop(0, axis=1, inplace=True)\n",
    "    hsk_df.rename(columns={1: \"character\", 2: \"pinyin\", 3: \"definition\"}, inplace=True)\n",
    "    hsk_df.insert(loc=2,column=\"HSK\",value=[hsk]*hsk_df.shape[0])\n",
    "    hsk_df[\"embedding\"] = hsk_df[\"definition\"].map(model2.encode)\n",
    "    HSK2 = pd.concat([HSK, hsk_df])\n",
    "HSK2.reset_index(inplace=True, drop=True)\n",
    "HSK2.head()"
   ]
  },
  {
   "cell_type": "code",
   "execution_count": 152,
   "metadata": {},
   "outputs": [
    {
     "data": {
      "text/html": [
       "<div>\n",
       "<style scoped>\n",
       "    .dataframe tbody tr th:only-of-type {\n",
       "        vertical-align: middle;\n",
       "    }\n",
       "\n",
       "    .dataframe tbody tr th {\n",
       "        vertical-align: top;\n",
       "    }\n",
       "\n",
       "    .dataframe thead th {\n",
       "        text-align: right;\n",
       "    }\n",
       "</style>\n",
       "<table border=\"1\" class=\"dataframe\">\n",
       "  <thead>\n",
       "    <tr style=\"text-align: right;\">\n",
       "      <th></th>\n",
       "      <th>character</th>\n",
       "    </tr>\n",
       "  </thead>\n",
       "  <tbody>\n",
       "    <tr>\n",
       "      <th>0</th>\n",
       "      <td>图像</td>\n",
       "    </tr>\n",
       "    <tr>\n",
       "      <th>1</th>\n",
       "      <td>来源</td>\n",
       "    </tr>\n",
       "    <tr>\n",
       "      <th>2</th>\n",
       "      <td>Getty</td>\n",
       "    </tr>\n",
       "    <tr>\n",
       "      <th>3</th>\n",
       "      <td></td>\n",
       "    </tr>\n",
       "    <tr>\n",
       "      <th>4</th>\n",
       "      <td>Images</td>\n",
       "    </tr>\n",
       "  </tbody>\n",
       "</table>\n",
       "</div>"
      ],
      "text/plain": [
       "  character\n",
       "0        图像\n",
       "1        来源\n",
       "2     Getty\n",
       "3          \n",
       "4    Images"
      ]
     },
     "execution_count": 152,
     "metadata": {},
     "output_type": "execute_result"
    }
   ],
   "source": [
    "tokens_pd.head()"
   ]
  },
  {
   "cell_type": "code",
   "execution_count": 160,
   "metadata": {},
   "outputs": [
    {
     "data": {
      "text/plain": [
       "(11036, 6)"
      ]
     },
     "execution_count": 160,
     "metadata": {},
     "output_type": "execute_result"
    }
   ],
   "source": [
    "HSK.shape"
   ]
  },
  {
   "cell_type": "code",
   "execution_count": 148,
   "metadata": {},
   "outputs": [],
   "source": [
    "tokens_embed = pd.merge(left=tokens_pd, right=HSK, how='inner', on=\"character\")\n",
    "tokens_embed2 = pd.merge(left=tokens_pd, right=HSK2, how='inner', on=\"character\")"
   ]
  },
  {
   "cell_type": "code",
   "execution_count": null,
   "metadata": {},
   "outputs": [],
   "source": [
    "HSK[HSK['']]"
   ]
  },
  {
   "cell_type": "code",
   "execution_count": 153,
   "metadata": {},
   "outputs": [
    {
     "data": {
      "text/html": [
       "<div>\n",
       "<style scoped>\n",
       "    .dataframe tbody tr th:only-of-type {\n",
       "        vertical-align: middle;\n",
       "    }\n",
       "\n",
       "    .dataframe tbody tr th {\n",
       "        vertical-align: top;\n",
       "    }\n",
       "\n",
       "    .dataframe thead th {\n",
       "        text-align: right;\n",
       "    }\n",
       "</style>\n",
       "<table border=\"1\" class=\"dataframe\">\n",
       "  <thead>\n",
       "    <tr style=\"text-align: right;\">\n",
       "      <th></th>\n",
       "      <th>character</th>\n",
       "      <th>index</th>\n",
       "      <th>pinyin</th>\n",
       "      <th>HSK</th>\n",
       "      <th>definition</th>\n",
       "      <th>embedding</th>\n",
       "    </tr>\n",
       "  </thead>\n",
       "  <tbody>\n",
       "    <tr>\n",
       "      <th>0</th>\n",
       "      <td>图像</td>\n",
       "      <td>4156</td>\n",
       "      <td>túxiàng</td>\n",
       "      <td>7_9</td>\n",
       "      <td>picture, graph, icon, image</td>\n",
       "      <td>[-0.13980588, 0.34705573, -0.3828236, -0.55116...</td>\n",
       "    </tr>\n",
       "    <tr>\n",
       "      <th>1</th>\n",
       "      <td>来源</td>\n",
       "      <td>454</td>\n",
       "      <td>láiyuán</td>\n",
       "      <td>4</td>\n",
       "      <td>resource, wellspring, origin, provenance, quar...</td>\n",
       "      <td>[-0.05992677, -0.066163205, 0.0572199, -0.0089...</td>\n",
       "    </tr>\n",
       "    <tr>\n",
       "      <th>2</th>\n",
       "      <td>今年</td>\n",
       "      <td>175</td>\n",
       "      <td>jīnnián</td>\n",
       "      <td>1</td>\n",
       "      <td>this year</td>\n",
       "      <td>[-0.11772831, -0.09042055, 0.22076279, -0.1926...</td>\n",
       "    </tr>\n",
       "    <tr>\n",
       "      <th>3</th>\n",
       "      <td>以来</td>\n",
       "      <td>828</td>\n",
       "      <td>yǐlái</td>\n",
       "      <td>3</td>\n",
       "      <td>since</td>\n",
       "      <td>[0.014946421, 0.3638214, 0.09179747, -0.315277...</td>\n",
       "    </tr>\n",
       "    <tr>\n",
       "      <th>4</th>\n",
       "      <td>刺激</td>\n",
       "      <td>124</td>\n",
       "      <td>cìjī</td>\n",
       "      <td>4</td>\n",
       "      <td>stimulate, provoke, irritate, upset</td>\n",
       "      <td>[-0.14591263, -0.35047492, 0.57938576, 0.28862...</td>\n",
       "    </tr>\n",
       "  </tbody>\n",
       "</table>\n",
       "</div>"
      ],
      "text/plain": [
       "  character  index   pinyin  HSK  \\\n",
       "0        图像   4156  túxiàng  7_9   \n",
       "1        来源    454  láiyuán    4   \n",
       "2        今年    175  jīnnián    1   \n",
       "3        以来    828    yǐlái    3   \n",
       "4        刺激    124     cìjī    4   \n",
       "\n",
       "                                          definition  \\\n",
       "0                        picture, graph, icon, image   \n",
       "1  resource, wellspring, origin, provenance, quar...   \n",
       "2                                          this year   \n",
       "3                                              since   \n",
       "4                stimulate, provoke, irritate, upset   \n",
       "\n",
       "                                           embedding  \n",
       "0  [-0.13980588, 0.34705573, -0.3828236, -0.55116...  \n",
       "1  [-0.05992677, -0.066163205, 0.0572199, -0.0089...  \n",
       "2  [-0.11772831, -0.09042055, 0.22076279, -0.1926...  \n",
       "3  [0.014946421, 0.3638214, 0.09179747, -0.315277...  \n",
       "4  [-0.14591263, -0.35047492, 0.57938576, 0.28862...  "
      ]
     },
     "execution_count": 153,
     "metadata": {},
     "output_type": "execute_result"
    }
   ],
   "source": [
    "tokens_embed.head()"
   ]
  },
  {
   "cell_type": "code",
   "execution_count": 68,
   "metadata": {},
   "outputs": [],
   "source": [
    "tokens_embed.dropna(inplace=True)\n",
    "tokens_embed2.dropna(inplace=True)"
   ]
  },
  {
   "cell_type": "code",
   "execution_count": 82,
   "metadata": {},
   "outputs": [
    {
     "data": {
      "text/html": [
       "<div>\n",
       "<style scoped>\n",
       "    .dataframe tbody tr th:only-of-type {\n",
       "        vertical-align: middle;\n",
       "    }\n",
       "\n",
       "    .dataframe tbody tr th {\n",
       "        vertical-align: top;\n",
       "    }\n",
       "\n",
       "    .dataframe thead th {\n",
       "        text-align: right;\n",
       "    }\n",
       "</style>\n",
       "<table border=\"1\" class=\"dataframe\">\n",
       "  <thead>\n",
       "    <tr style=\"text-align: right;\">\n",
       "      <th></th>\n",
       "      <th>character</th>\n",
       "      <th>pinyin</th>\n",
       "      <th>HSK</th>\n",
       "      <th>definition</th>\n",
       "      <th>embedding</th>\n",
       "    </tr>\n",
       "  </thead>\n",
       "  <tbody>\n",
       "    <tr>\n",
       "      <th>0</th>\n",
       "      <td>图像</td>\n",
       "      <td>túxiàng</td>\n",
       "      <td>7_9</td>\n",
       "      <td>picture, graph, icon, image</td>\n",
       "      <td>[-0.13980578, 0.34705564, -0.38282347, -0.5511...</td>\n",
       "    </tr>\n",
       "    <tr>\n",
       "      <th>1</th>\n",
       "      <td>图像</td>\n",
       "      <td>túxiàng</td>\n",
       "      <td>7_9</td>\n",
       "      <td>picture, graph, icon, image</td>\n",
       "      <td>[-0.031714417, -0.08117082, -0.03150031, 0.019...</td>\n",
       "    </tr>\n",
       "    <tr>\n",
       "      <th>2</th>\n",
       "      <td>来源</td>\n",
       "      <td>láiyuán</td>\n",
       "      <td>4</td>\n",
       "      <td>resource, wellspring, origin, provenance, quar...</td>\n",
       "      <td>[-0.05992676, -0.06616323, 0.057219807, -0.008...</td>\n",
       "    </tr>\n",
       "    <tr>\n",
       "      <th>6</th>\n",
       "      <td>今年</td>\n",
       "      <td>jīnnián</td>\n",
       "      <td>1</td>\n",
       "      <td>this year</td>\n",
       "      <td>[-0.11772822, -0.090420365, 0.22076243, -0.192...</td>\n",
       "    </tr>\n",
       "    <tr>\n",
       "      <th>8</th>\n",
       "      <td>以来</td>\n",
       "      <td>yǐlái</td>\n",
       "      <td>3</td>\n",
       "      <td>since</td>\n",
       "      <td>[0.01494664, 0.36382112, 0.09179721, -0.315277...</td>\n",
       "    </tr>\n",
       "  </tbody>\n",
       "</table>\n",
       "</div>"
      ],
      "text/plain": [
       "  character   pinyin  HSK                                         definition  \\\n",
       "0        图像  túxiàng  7_9                        picture, graph, icon, image   \n",
       "1        图像  túxiàng  7_9                        picture, graph, icon, image   \n",
       "2        来源  láiyuán    4  resource, wellspring, origin, provenance, quar...   \n",
       "6        今年  jīnnián    1                                          this year   \n",
       "8        以来    yǐlái    3                                              since   \n",
       "\n",
       "                                           embedding  \n",
       "0  [-0.13980578, 0.34705564, -0.38282347, -0.5511...  \n",
       "1  [-0.031714417, -0.08117082, -0.03150031, 0.019...  \n",
       "2  [-0.05992676, -0.06616323, 0.057219807, -0.008...  \n",
       "6  [-0.11772822, -0.090420365, 0.22076243, -0.192...  \n",
       "8  [0.01494664, 0.36382112, 0.09179721, -0.315277...  "
      ]
     },
     "execution_count": 82,
     "metadata": {},
     "output_type": "execute_result"
    }
   ],
   "source": [
    "tokens_embed2.head()"
   ]
  },
  {
   "cell_type": "code",
   "execution_count": 36,
   "metadata": {},
   "outputs": [
    {
     "data": {
      "text/plain": [
       "numpy.ndarray"
      ]
     },
     "execution_count": 36,
     "metadata": {},
     "output_type": "execute_result"
    }
   ],
   "source": [
    "type(tokens_embed.iloc[0,4])"
   ]
  },
  {
   "cell_type": "code",
   "execution_count": 74,
   "metadata": {},
   "outputs": [
    {
     "ename": "RuntimeError",
     "evalue": "mat1 and mat2 shapes cannot be multiplied (1x384 and 768x1)",
     "output_type": "error",
     "traceback": [
      "\u001b[1;31m---------------------------------------------------------------------------\u001b[0m",
      "\u001b[1;31mRuntimeError\u001b[0m                              Traceback (most recent call last)",
      "Cell \u001b[1;32mIn[74], line 7\u001b[0m\n\u001b[0;32m      5\u001b[0m cos_sim2 \u001b[38;5;241m=\u001b[39m []\n\u001b[0;32m      6\u001b[0m \u001b[38;5;28;01mfor\u001b[39;00m ii \u001b[38;5;129;01min\u001b[39;00m \u001b[38;5;28mrange\u001b[39m(\u001b[38;5;241m1\u001b[39m,tokens_embed\u001b[38;5;241m.\u001b[39mindex\u001b[38;5;241m.\u001b[39msize):\n\u001b[1;32m----> 7\u001b[0m     cos_sim2\u001b[38;5;241m.\u001b[39mappend(\u001b[43mmodel2\u001b[49m\u001b[38;5;241;43m.\u001b[39;49m\u001b[43msimilarity\u001b[49m\u001b[43m(\u001b[49m\u001b[43mtokens_embed2\u001b[49m\u001b[38;5;241;43m.\u001b[39;49m\u001b[43miloc\u001b[49m\u001b[43m[\u001b[49m\u001b[38;5;241;43m0\u001b[39;49m\u001b[43m,\u001b[49m\u001b[38;5;241;43m4\u001b[39;49m\u001b[43m]\u001b[49m\u001b[43m,\u001b[49m\u001b[43m \u001b[49m\u001b[43mtokens_embed2\u001b[49m\u001b[38;5;241;43m.\u001b[39;49m\u001b[43miloc\u001b[49m\u001b[43m[\u001b[49m\u001b[43mii\u001b[49m\u001b[43m,\u001b[49m\u001b[38;5;241;43m4\u001b[39;49m\u001b[43m]\u001b[49m\u001b[43m)\u001b[49m[\u001b[38;5;241m0\u001b[39m][\u001b[38;5;241m0\u001b[39m]\u001b[38;5;241m.\u001b[39mfloat())\n",
      "File \u001b[1;32mc:\\Users\\tempu\\AppData\\Local\\Programs\\Python\\Python312\\Lib\\site-packages\\sentence_transformers\\util.py:108\u001b[0m, in \u001b[0;36mcos_sim\u001b[1;34m(a, b)\u001b[0m\n\u001b[0;32m    106\u001b[0m a_norm \u001b[38;5;241m=\u001b[39m normalize_embeddings(a)\n\u001b[0;32m    107\u001b[0m b_norm \u001b[38;5;241m=\u001b[39m normalize_embeddings(b)\n\u001b[1;32m--> 108\u001b[0m \u001b[38;5;28;01mreturn\u001b[39;00m \u001b[43mtorch\u001b[49m\u001b[38;5;241;43m.\u001b[39;49m\u001b[43mmm\u001b[49m\u001b[43m(\u001b[49m\u001b[43ma_norm\u001b[49m\u001b[43m,\u001b[49m\u001b[43m \u001b[49m\u001b[43mb_norm\u001b[49m\u001b[38;5;241;43m.\u001b[39;49m\u001b[43mtranspose\u001b[49m\u001b[43m(\u001b[49m\u001b[38;5;241;43m0\u001b[39;49m\u001b[43m,\u001b[49m\u001b[43m \u001b[49m\u001b[38;5;241;43m1\u001b[39;49m\u001b[43m)\u001b[49m\u001b[43m)\u001b[49m\n",
      "\u001b[1;31mRuntimeError\u001b[0m: mat1 and mat2 shapes cannot be multiplied (1x384 and 768x1)"
     ]
    }
   ],
   "source": [
    "cos_sim = []\n",
    "for ii in range(1,tokens_embed.index.size):\n",
    "    cos_sim.append(model1.similarity(tokens_embed.iloc[0,4], tokens_embed.iloc[ii,4])[0][0].float())\n",
    "    \n",
    "cos_sim2 = []\n",
    "for ii in range(1,tokens_embed.index.size):\n",
    "    cos_sim2.append(model2.similarity(tokens_embed2.iloc[0,4], tokens_embed2.iloc[ii,4])[0][0].float())"
   ]
  },
  {
   "cell_type": "code",
   "execution_count": 72,
   "metadata": {},
   "outputs": [
    {
     "data": {
      "text/plain": [
       "'有'"
      ]
     },
     "execution_count": 72,
     "metadata": {},
     "output_type": "execute_result"
    }
   ],
   "source": [
    "tokens_embed.iloc[int(np.argmax(cos_sim)),0]"
   ]
  },
  {
   "cell_type": "code",
   "execution_count": null,
   "metadata": {},
   "outputs": [
    {
     "data": {
      "text/plain": [
       "[<matplotlib.lines.Line2D at 0x23296725100>]"
      ]
     },
     "execution_count": 73,
     "metadata": {},
     "output_type": "execute_result"
    },
    {
     "data": {
      "image/png": "[encoded data removed]",
      "text/plain": [
       "<Figure size 640x480 with 1 Axes>"
      ]
     },
     "metadata": {},
     "output_type": "display_data"
    }
   ],
   "source": [
    "import matplotlib.pyplot as plt\n",
    "\n",
    "plt.plot(cos_sim)\n",
    "plt.plot(cos_sim2)"
   ]
  }
 ],
 "metadata": {
  "kernelspec": {
   "display_name": "Python 3",
   "language": "python",
   "name": "python3"
  },
  "language_info": {
   "codemirror_mode": {
    "name": "ipython",
    "version": 3
   },
   "file_extension": ".py",
   "mimetype": "text/x-python",
   "name": "python",
   "nbconvert_exporter": "python",
   "pygments_lexer": "ipython3",
   "version": "3.12.3"
  }
 },
 "nbformat": 4,
 "nbformat_minor": 2
}
