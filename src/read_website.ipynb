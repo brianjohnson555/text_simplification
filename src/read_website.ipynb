{
 "cells": [
  {
   "cell_type": "markdown",
   "metadata": {},
   "source": [
    "### Read and replace webpage\n",
    "Ongoing notebook to read webpage data, perform LS, generate replacement webpage with LS data"
   ]
  },
  {
   "cell_type": "code",
   "execution_count": 29,
   "metadata": {},
   "outputs": [],
   "source": [
    "###### import packages, sentence model, and parse html from site url\n",
    "import requests\n",
    "import re\n",
    "from bs4 import BeautifulSoup\n",
    "import string\n",
    "from utils.TS_pipeline import TS_with_BART\n",
    "url = 'https://www.bbc.com/zhongwen/articles/c4gl97d2rzjo/simp'\n",
    "site = requests.get(url)\n",
    "site_soup = BeautifulSoup(site.text, 'html.parser')\n",
    "# print(site_soup.prettify())"
   ]
  },
  {
   "cell_type": "code",
   "execution_count": 30,
   "metadata": {},
   "outputs": [
    {
     "name": "stderr",
     "output_type": "stream",
     "text": [
      "C:\\Users\\tempu\\AppData\\Local\\Temp\\ipykernel_12924\\1092285010.py:16: MarkupResemblesLocatorWarning: The input looks more like a filename than markup. You may want to open this file and pass the filehandle into Beautiful Soup.\n",
      "  element.append(BeautifulSoup(new_html, 'html.parser'))\n"
     ]
    }
   ],
   "source": [
    "def zng(paragraph: str):\n",
    "    for sent in re.findall(r'[^!?。\\.\\!\\?]+[!?。\\.\\!\\?]?', paragraph):\n",
    "        yield sent\n",
    "\n",
    "for element in site_soup.find_all('p'):  # Get all text nodes\n",
    "    html = element.decode_contents()  # Preserve inner HTML\n",
    "    element.clear()  # Remove existing content\n",
    "    sentences = list(zng(html))\n",
    "    new_html = ''\n",
    "    for sentence in sentences:\n",
    "        new_html += TS_with_BART(sentence)\n",
    "    # text = text.replace(old_word, f'<span style=\"color: red;\">{new_word}</span>')\n",
    "    # newtext = BeautifulSoup(convert, 'html.parser')\n",
    "    # element.replace_with(newtext)\n",
    "   \n",
    "    element.append(BeautifulSoup(new_html, 'html.parser'))"
   ]
  },
  {
   "cell_type": "code",
   "execution_count": 31,
   "metadata": {},
   "outputs": [],
   "source": [
    "with open(\"output.html\", \"w\", encoding = 'utf-8') as file: \n",
    "    # prettify the soup object and convert it into a string \n",
    "    file.write(str(site_soup)) "
   ]
  }
 ],
 "metadata": {
  "kernelspec": {
   "display_name": "Python 3",
   "language": "python",
   "name": "python3"
  },
  "language_info": {
   "codemirror_mode": {
    "name": "ipython",
    "version": 3
   },
   "file_extension": ".py",
   "mimetype": "text/x-python",
   "name": "python",
   "nbconvert_exporter": "python",
   "pygments_lexer": "ipython3",
   "version": "3.12.3"
  }
 },
 "nbformat": 4,
 "nbformat_minor": 2
}
