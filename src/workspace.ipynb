{
 "cells": [
  {
   "cell_type": "code",
   "execution_count": null,
   "metadata": {},
   "outputs": [],
   "source": [
    "import jieba.posseg as pseg\n",
    "import nltk\n",
    "import pandas as pd\n",
    "import numpy as np\n",
    "import pickle\n",
    "import seaborn as sns\n",
    "import torch"
   ]
  },
  {
   "cell_type": "code",
   "execution_count": 4,
   "metadata": {},
   "outputs": [
    {
     "data": {
      "text/html": [
       "<div>\n",
       "<style scoped>\n",
       "    .dataframe tbody tr th:only-of-type {\n",
       "        vertical-align: middle;\n",
       "    }\n",
       "\n",
       "    .dataframe tbody tr th {\n",
       "        vertical-align: top;\n",
       "    }\n",
       "\n",
       "    .dataframe thead th {\n",
       "        text-align: right;\n",
       "    }\n",
       "</style>\n",
       "<table border=\"1\" class=\"dataframe\">\n",
       "  <thead>\n",
       "    <tr style=\"text-align: right;\">\n",
       "      <th></th>\n",
       "      <th>frequency</th>\n",
       "    </tr>\n",
       "    <tr>\n",
       "      <th>character</th>\n",
       "      <th></th>\n",
       "    </tr>\n",
       "  </thead>\n",
       "  <tbody>\n",
       "    <tr>\n",
       "      <th>的</th>\n",
       "      <td>1.000000</td>\n",
       "    </tr>\n",
       "    <tr>\n",
       "      <th>了</th>\n",
       "      <td>0.999997</td>\n",
       "    </tr>\n",
       "    <tr>\n",
       "      <th>是</th>\n",
       "      <td>0.999994</td>\n",
       "    </tr>\n",
       "    <tr>\n",
       "      <th>我</th>\n",
       "      <td>0.999992</td>\n",
       "    </tr>\n",
       "    <tr>\n",
       "      <th>在</th>\n",
       "      <td>0.999989</td>\n",
       "    </tr>\n",
       "  </tbody>\n",
       "</table>\n",
       "</div>"
      ],
      "text/plain": [
       "           frequency\n",
       "character           \n",
       "的           1.000000\n",
       "了           0.999997\n",
       "是           0.999994\n",
       "我           0.999992\n",
       "在           0.999989"
      ]
     },
     "execution_count": 4,
     "metadata": {},
     "output_type": "execute_result"
    }
   ],
   "source": [
    "df = pd.read_csv('../data/BLCU/literature_wordfreq.release_UTF-8.txt', header = None, sep=\"\\t\",)\n",
    "df.rename(columns={0:\"character\", 1:\"frequency\"}, inplace=True)\n",
    "df.set_index(\"character\", inplace=True)\n",
    "df[\"frequency\"] = df[\"frequency\"].rank(pct=True)\n",
    "df.head()"
   ]
  },
  {
   "cell_type": "code",
   "execution_count": 5,
   "metadata": {},
   "outputs": [
    {
     "data": {
      "text/html": [
       "<div>\n",
       "<style scoped>\n",
       "    .dataframe tbody tr th:only-of-type {\n",
       "        vertical-align: middle;\n",
       "    }\n",
       "\n",
       "    .dataframe tbody tr th {\n",
       "        vertical-align: top;\n",
       "    }\n",
       "\n",
       "    .dataframe thead th {\n",
       "        text-align: right;\n",
       "    }\n",
       "</style>\n",
       "<table border=\"1\" class=\"dataframe\">\n",
       "  <thead>\n",
       "    <tr style=\"text-align: right;\">\n",
       "      <th></th>\n",
       "      <th>HSK</th>\n",
       "    </tr>\n",
       "  </thead>\n",
       "  <tbody>\n",
       "    <tr>\n",
       "      <th>阿姨</th>\n",
       "      <td>4</td>\n",
       "    </tr>\n",
       "    <tr>\n",
       "      <th>啊</th>\n",
       "      <td>4</td>\n",
       "    </tr>\n",
       "    <tr>\n",
       "      <th>矮</th>\n",
       "      <td>4</td>\n",
       "    </tr>\n",
       "    <tr>\n",
       "      <th>矮小</th>\n",
       "      <td>4</td>\n",
       "    </tr>\n",
       "    <tr>\n",
       "      <th>爱国</th>\n",
       "      <td>4</td>\n",
       "    </tr>\n",
       "  </tbody>\n",
       "</table>\n",
       "</div>"
      ],
      "text/plain": [
       "    HSK\n",
       "阿姨    4\n",
       "啊     4\n",
       "矮     4\n",
       "矮小    4\n",
       "爱国    4"
      ]
     },
     "execution_count": 5,
     "metadata": {},
     "output_type": "execute_result"
    }
   ],
   "source": [
    "with open(\"../data/HSK/HSK_levels.pickle\", 'rb') as handle:\n",
    "    HSK_dict = pickle.load(handle)\n",
    "HSK = pd.DataFrame.from_dict(HSK_dict, orient='index', columns=[\"HSK\"])\n",
    "HSK.head()"
   ]
  },
  {
   "cell_type": "code",
   "execution_count": null,
   "metadata": {},
   "outputs": [
    {
     "data": {
      "text/plain": [
       "np.int64(4)"
      ]
     },
     "execution_count": 41,
     "metadata": {},
     "output_type": "execute_result"
    }
   ],
   "source": [
    "HSK.loc[\"矮\"][\"HSK\"] #returns the HSK level of the character\n",
    "df.loc[\"矮\"] #returns the freq rank of the character"
   ]
  },
  {
   "cell_type": "code",
   "execution_count": 58,
   "metadata": {},
   "outputs": [
    {
     "name": "stdout",
     "output_type": "stream",
     "text": [
      "HSK4 data--- mean: 0.9753306336389995 max: 0.9999776228783691 min: 0.5621762310214037\n",
      "HSK5 data--- mean: 0.972203775539278 max: 0.9998545487093995 min: 0.4506150911308278\n",
      "HSK6 data--- mean: 0.9635792048980317 max: 0.9999021000928651 min: 0.6699668259171823\n",
      "HSK7 data--- mean: 0.9476793222619491 max: 0.9999104915134767 min: 0.2998436398626045\n"
     ]
    }
   ],
   "source": [
    "HSK_data = []\n",
    "for level in range(4,8):\n",
    "    # get all characters at HSK level\n",
    "    HSK4 = HSK.loc[HSK[\"HSK\"]==level]\n",
    "    # merge to get freq of HSK chars\n",
    "    HSK4_freq = pd.merge(df, HSK4, how='right', left_index=True, right_index=True)[\"frequency\"]\n",
    "    print(f\"HSK{level} data--- mean:\", np.mean(HSK4_freq), \"max:\", np.max(HSK4_freq), \"min:\", np.min(HSK4_freq))\n",
    "    HSK_data.append(HSK4_freq)"
   ]
  },
  {
   "cell_type": "code",
   "execution_count": 116,
   "metadata": {},
   "outputs": [],
   "source": [
    "l1 = list(df.iloc[:50000].index)\n",
    "l2 = list(df.iloc[:50000].index)"
   ]
  },
  {
   "cell_type": "code",
   "execution_count": null,
   "metadata": {},
   "outputs": [],
   "source": [
    "from sentence_transformers import SentenceTransformer\n",
    "model = SentenceTransformer('BAAI/bge-large-zh-v1.5')\n",
    "embeddings1 = model.encode(l1)\n",
    "embeddings2 = model.encode(l2)\n",
    "similarity_t = model.similarity(embeddings1, embeddings2)\n",
    "top_choice = torch.flip(np.argsort(similarity_t, axis=1)[:,-16:-1], dims=(1,)).numpy().tolist()"
   ]
  },
  {
   "cell_type": "code",
   "execution_count": 6,
   "metadata": {},
   "outputs": [],
   "source": [
    "import pickle\n",
    "with open(\"../data/BLCU/top_similar.pickle\", 'rb') as handle:\n",
    "    top_similar = pickle.load(handle)"
   ]
  },
  {
   "cell_type": "code",
   "execution_count": 57,
   "metadata": {},
   "outputs": [
    {
     "name": "stdout",
     "output_type": "stream",
     "text": [
      "大方: [('大方', 'n')]\n",
      "宽宏大量: [('宽宏大量', 'i')]\n",
      "气度: [('气度', 'n')]\n",
      "豁达: [('豁达', 'a')]\n",
      "宽大: [('宽大', 'a')]\n",
      "宽容: [('宽容', 'a')]\n",
      "宽广: [('宽广', 'a')]\n",
      "态度: [('态度', 'n')]\n",
      "风度: [('风度', 'n')]\n",
      "宽阔: [('宽阔', 'a')]\n",
      "大气: [('大气', 'n')]\n",
      "大大方方: [('大大方方', 'nz')]\n",
      "尺度: [('尺度', 'n')]\n",
      "厚道: [('厚道', 'n')]\n",
      "从容: [('从容', 'v')]\n"
     ]
    }
   ],
   "source": [
    "idx = 15000\n",
    "top_list = list(df.index[top_similar[idx]])\n",
    "\n",
    "for word in top_list:\n",
    "    tagged_word = list(pseg.cut(word))  # POS tagging\n",
    "    print(f\"{word}: {[(w.word, w.flag) for w in tagged_word]}\")"
   ]
  }
 ],
 "metadata": {
  "kernelspec": {
   "display_name": "Python 3",
   "language": "python",
   "name": "python3"
  },
  "language_info": {
   "codemirror_mode": {
    "name": "ipython",
    "version": 3
   },
   "file_extension": ".py",
   "mimetype": "text/x-python",
   "name": "python",
   "nbconvert_exporter": "python",
   "pygments_lexer": "ipython3",
   "version": "3.12.3"
  }
 },
 "nbformat": 4,
 "nbformat_minor": 2
}
